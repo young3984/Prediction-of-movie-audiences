{
 "cells": [
  {
   "cell_type": "code",
   "execution_count": 1,
   "metadata": {},
   "outputs": [],
   "source": [
    "import pandas as pd\n",
    "import numpy as np\n",
    "import matplotlib\n",
    "import matplotlib.pyplot as plt\n",
    "from pandas import Series, DataFrame\n",
    "import seaborn as sns"
   ]
  },
  {
   "cell_type": "code",
   "execution_count": 2,
   "metadata": {},
   "outputs": [],
   "source": [
    "movies=pd.read_csv(\"C:/Users/shinyoungmin/Desktop/수DA쟁이/과제/조별과제/영화 관객수/movies.csv\")"
   ]
  },
  {
   "cell_type": "code",
   "execution_count": 3,
   "metadata": {},
   "outputs": [],
   "source": [
    "drama=movies[movies.genre.isin(['드라마','코미디'])]"
   ]
  },
  {
   "cell_type": "code",
   "execution_count": 4,
   "metadata": {},
   "outputs": [],
   "source": [
    "rate=np.zeros(shape=(274),dtype=np.int8)"
   ]
  },
  {
   "cell_type": "code",
   "execution_count": 5,
   "metadata": {},
   "outputs": [],
   "source": [
    "rate_o=list(drama.screening_rat)"
   ]
  },
  {
   "cell_type": "code",
   "execution_count": 6,
   "metadata": {},
   "outputs": [],
   "source": [
    "for it in range(274):\n",
    "    if rate_o[it]=='12세 관람가':\n",
    "        rate[it]=1\n",
    "    elif rate_o[it]=='15세 관람가':\n",
    "        rate[it]=2\n",
    "    elif rate_o[it]=='청소년 관람불가':\n",
    "        rate[it]=3"
   ]
  },
  {
   "cell_type": "code",
   "execution_count": 7,
   "metadata": {},
   "outputs": [],
   "source": [
    "drama=drama.reset_index(inplace=False)"
   ]
  },
  {
   "cell_type": "code",
   "execution_count": 8,
   "metadata": {},
   "outputs": [],
   "source": [
    "drama=drama.drop('screening_rat',axis=1)"
   ]
  },
  {
   "cell_type": "code",
   "execution_count": 9,
   "metadata": {},
   "outputs": [],
   "source": [
    "drama['screeing_rat']=rate"
   ]
  },
  {
   "cell_type": "code",
   "execution_count": 10,
   "metadata": {},
   "outputs": [
    {
     "data": {
      "text/html": [
       "<div>\n",
       "<style scoped>\n",
       "    .dataframe tbody tr th:only-of-type {\n",
       "        vertical-align: middle;\n",
       "    }\n",
       "\n",
       "    .dataframe tbody tr th {\n",
       "        vertical-align: top;\n",
       "    }\n",
       "\n",
       "    .dataframe thead th {\n",
       "        text-align: right;\n",
       "    }\n",
       "</style>\n",
       "<table border=\"1\" class=\"dataframe\">\n",
       "  <thead>\n",
       "    <tr style=\"text-align: right;\">\n",
       "      <th></th>\n",
       "      <th>index</th>\n",
       "      <th>title</th>\n",
       "      <th>distributor</th>\n",
       "      <th>genre</th>\n",
       "      <th>release_time</th>\n",
       "      <th>time</th>\n",
       "      <th>director</th>\n",
       "      <th>dir_prev_bfnum</th>\n",
       "      <th>dir_prev_num</th>\n",
       "      <th>num_staff</th>\n",
       "      <th>num_actor</th>\n",
       "      <th>box_off_num</th>\n",
       "      <th>screeing_rat</th>\n",
       "    </tr>\n",
       "  </thead>\n",
       "  <tbody>\n",
       "    <tr>\n",
       "      <th>0</th>\n",
       "      <td>3</td>\n",
       "      <td>나는 공무원이다</td>\n",
       "      <td>(주)NEW</td>\n",
       "      <td>코미디</td>\n",
       "      <td>2012-07-12</td>\n",
       "      <td>101</td>\n",
       "      <td>구자홍</td>\n",
       "      <td>23894.0</td>\n",
       "      <td>2</td>\n",
       "      <td>20</td>\n",
       "      <td>6</td>\n",
       "      <td>217866</td>\n",
       "      <td>0</td>\n",
       "    </tr>\n",
       "    <tr>\n",
       "      <th>1</th>\n",
       "      <td>4</td>\n",
       "      <td>불량남녀</td>\n",
       "      <td>쇼박스(주)미디어플렉스</td>\n",
       "      <td>코미디</td>\n",
       "      <td>2010-11-04</td>\n",
       "      <td>108</td>\n",
       "      <td>신근호</td>\n",
       "      <td>1.0</td>\n",
       "      <td>1</td>\n",
       "      <td>251</td>\n",
       "      <td>2</td>\n",
       "      <td>483387</td>\n",
       "      <td>2</td>\n",
       "    </tr>\n",
       "    <tr>\n",
       "      <th>2</th>\n",
       "      <td>5</td>\n",
       "      <td>강철대오 : 구국의 철가방</td>\n",
       "      <td>롯데엔터테인먼트</td>\n",
       "      <td>코미디</td>\n",
       "      <td>2012-10-25</td>\n",
       "      <td>113</td>\n",
       "      <td>육상효</td>\n",
       "      <td>837969.0</td>\n",
       "      <td>2</td>\n",
       "      <td>262</td>\n",
       "      <td>4</td>\n",
       "      <td>233211</td>\n",
       "      <td>2</td>\n",
       "    </tr>\n",
       "    <tr>\n",
       "      <th>3</th>\n",
       "      <td>9</td>\n",
       "      <td>청춘그루브</td>\n",
       "      <td>(주)두타연</td>\n",
       "      <td>드라마</td>\n",
       "      <td>2012-03-15</td>\n",
       "      <td>94</td>\n",
       "      <td>변성현</td>\n",
       "      <td>NaN</td>\n",
       "      <td>0</td>\n",
       "      <td>138</td>\n",
       "      <td>3</td>\n",
       "      <td>868</td>\n",
       "      <td>2</td>\n",
       "    </tr>\n",
       "    <tr>\n",
       "      <th>4</th>\n",
       "      <td>12</td>\n",
       "      <td>해로</td>\n",
       "      <td>(주)키노아이</td>\n",
       "      <td>드라마</td>\n",
       "      <td>2012-03-22</td>\n",
       "      <td>113</td>\n",
       "      <td>최종태</td>\n",
       "      <td>431231.0</td>\n",
       "      <td>1</td>\n",
       "      <td>14</td>\n",
       "      <td>2</td>\n",
       "      <td>5851</td>\n",
       "      <td>1</td>\n",
       "    </tr>\n",
       "    <tr>\n",
       "      <th>...</th>\n",
       "      <td>...</td>\n",
       "      <td>...</td>\n",
       "      <td>...</td>\n",
       "      <td>...</td>\n",
       "      <td>...</td>\n",
       "      <td>...</td>\n",
       "      <td>...</td>\n",
       "      <td>...</td>\n",
       "      <td>...</td>\n",
       "      <td>...</td>\n",
       "      <td>...</td>\n",
       "      <td>...</td>\n",
       "      <td>...</td>\n",
       "    </tr>\n",
       "    <tr>\n",
       "      <th>269</th>\n",
       "      <td>589</td>\n",
       "      <td>상의원</td>\n",
       "      <td>(주)쇼박스</td>\n",
       "      <td>드라마</td>\n",
       "      <td>2014-12-24</td>\n",
       "      <td>127</td>\n",
       "      <td>이원석</td>\n",
       "      <td>NaN</td>\n",
       "      <td>0</td>\n",
       "      <td>456</td>\n",
       "      <td>5</td>\n",
       "      <td>790370</td>\n",
       "      <td>2</td>\n",
       "    </tr>\n",
       "    <tr>\n",
       "      <th>270</th>\n",
       "      <td>591</td>\n",
       "      <td>아티스트 봉만대</td>\n",
       "      <td>씨너스엔터테인먼트(주)</td>\n",
       "      <td>코미디</td>\n",
       "      <td>2013-08-29</td>\n",
       "      <td>101</td>\n",
       "      <td>봉만대</td>\n",
       "      <td>NaN</td>\n",
       "      <td>0</td>\n",
       "      <td>59</td>\n",
       "      <td>4</td>\n",
       "      <td>14188</td>\n",
       "      <td>3</td>\n",
       "    </tr>\n",
       "    <tr>\n",
       "      <th>271</th>\n",
       "      <td>594</td>\n",
       "      <td>오빠가 돌아왔다</td>\n",
       "      <td>(주)마운틴픽쳐스</td>\n",
       "      <td>코미디</td>\n",
       "      <td>2014-03-20</td>\n",
       "      <td>94</td>\n",
       "      <td>노진수</td>\n",
       "      <td>NaN</td>\n",
       "      <td>0</td>\n",
       "      <td>37</td>\n",
       "      <td>5</td>\n",
       "      <td>1958</td>\n",
       "      <td>3</td>\n",
       "    </tr>\n",
       "    <tr>\n",
       "      <th>272</th>\n",
       "      <td>595</td>\n",
       "      <td>해무</td>\n",
       "      <td>(주)NEW</td>\n",
       "      <td>드라마</td>\n",
       "      <td>2014-08-13</td>\n",
       "      <td>111</td>\n",
       "      <td>심성보</td>\n",
       "      <td>3833.0</td>\n",
       "      <td>1</td>\n",
       "      <td>510</td>\n",
       "      <td>7</td>\n",
       "      <td>1475091</td>\n",
       "      <td>3</td>\n",
       "    </tr>\n",
       "    <tr>\n",
       "      <th>273</th>\n",
       "      <td>596</td>\n",
       "      <td>파파로티</td>\n",
       "      <td>(주)쇼박스</td>\n",
       "      <td>드라마</td>\n",
       "      <td>2013-03-14</td>\n",
       "      <td>127</td>\n",
       "      <td>윤종찬</td>\n",
       "      <td>496061.0</td>\n",
       "      <td>1</td>\n",
       "      <td>286</td>\n",
       "      <td>6</td>\n",
       "      <td>1716438</td>\n",
       "      <td>2</td>\n",
       "    </tr>\n",
       "  </tbody>\n",
       "</table>\n",
       "<p>274 rows × 13 columns</p>\n",
       "</div>"
      ],
      "text/plain": [
       "     index           title   distributor genre release_time  time director  \\\n",
       "0        3        나는 공무원이다        (주)NEW   코미디   2012-07-12   101      구자홍   \n",
       "1        4            불량남녀  쇼박스(주)미디어플렉스   코미디   2010-11-04   108      신근호   \n",
       "2        5  강철대오 : 구국의 철가방      롯데엔터테인먼트   코미디   2012-10-25   113      육상효   \n",
       "3        9           청춘그루브        (주)두타연   드라마   2012-03-15    94      변성현   \n",
       "4       12              해로       (주)키노아이   드라마   2012-03-22   113      최종태   \n",
       "..     ...             ...           ...   ...          ...   ...      ...   \n",
       "269    589             상의원        (주)쇼박스   드라마   2014-12-24   127      이원석   \n",
       "270    591        아티스트 봉만대  씨너스엔터테인먼트(주)   코미디   2013-08-29   101      봉만대   \n",
       "271    594        오빠가 돌아왔다     (주)마운틴픽쳐스   코미디   2014-03-20    94      노진수   \n",
       "272    595              해무        (주)NEW   드라마   2014-08-13   111      심성보   \n",
       "273    596            파파로티        (주)쇼박스   드라마   2013-03-14   127      윤종찬   \n",
       "\n",
       "     dir_prev_bfnum  dir_prev_num  num_staff  num_actor  box_off_num  \\\n",
       "0           23894.0             2         20          6       217866   \n",
       "1               1.0             1        251          2       483387   \n",
       "2          837969.0             2        262          4       233211   \n",
       "3               NaN             0        138          3          868   \n",
       "4          431231.0             1         14          2         5851   \n",
       "..              ...           ...        ...        ...          ...   \n",
       "269             NaN             0        456          5       790370   \n",
       "270             NaN             0         59          4        14188   \n",
       "271             NaN             0         37          5         1958   \n",
       "272          3833.0             1        510          7      1475091   \n",
       "273        496061.0             1        286          6      1716438   \n",
       "\n",
       "     screeing_rat  \n",
       "0               0  \n",
       "1               2  \n",
       "2               2  \n",
       "3               2  \n",
       "4               1  \n",
       "..            ...  \n",
       "269             2  \n",
       "270             3  \n",
       "271             3  \n",
       "272             3  \n",
       "273             2  \n",
       "\n",
       "[274 rows x 13 columns]"
      ]
     },
     "execution_count": 10,
     "metadata": {},
     "output_type": "execute_result"
    }
   ],
   "source": [
    "drama"
   ]
  },
  {
   "cell_type": "code",
   "execution_count": 11,
   "metadata": {},
   "outputs": [],
   "source": [
    "Y=drama.box_off_num.values\n",
    "X=drama.screeing_rat.values"
   ]
  },
  {
   "cell_type": "code",
   "execution_count": 12,
   "metadata": {
    "scrolled": true
   },
   "outputs": [
    {
     "data": {
      "text/plain": [
       "<matplotlib.collections.PathCollection at 0x1c394258f70>"
      ]
     },
     "execution_count": 12,
     "metadata": {},
     "output_type": "execute_result"
    },
    {
     "data": {
      "image/png": "[encoded data removed]",
      "text/plain": [
       "<Figure size 432x288 with 1 Axes>"
      ]
     },
     "metadata": {
      "needs_background": "light"
     },
     "output_type": "display_data"
    }
   ],
   "source": [
    "plt.scatter(X,Y)"
   ]
  },
  {
   "cell_type": "code",
   "execution_count": 13,
   "metadata": {},
   "outputs": [
    {
     "data": {
      "text/plain": [
       "-156417.21341675363"
      ]
     },
     "execution_count": 13,
     "metadata": {},
     "output_type": "execute_result"
    }
   ],
   "source": [
    "np.cov(X,Y)[0,1]"
   ]
  },
  {
   "cell_type": "code",
   "execution_count": 14,
   "metadata": {},
   "outputs": [
    {
     "data": {
      "text/plain": [
       "-0.08729565044656987"
      ]
     },
     "execution_count": 14,
     "metadata": {},
     "output_type": "execute_result"
    }
   ],
   "source": [
    "np.corrcoef(X,Y)[0,1]"
   ]
  },
  {
   "cell_type": "code",
   "execution_count": 15,
   "metadata": {},
   "outputs": [
    {
     "data": {
      "text/plain": [
       "(-0.08729565044656981, 0.14954325979872746)"
      ]
     },
     "execution_count": 15,
     "metadata": {},
     "output_type": "execute_result"
    }
   ],
   "source": [
    "import scipy.stats as stats\n",
    "stats.pearsonr(X,Y)"
   ]
  },
  {
   "cell_type": "code",
   "execution_count": 16,
   "metadata": {},
   "outputs": [],
   "source": [
    "k=drama.drop('title',axis=1)"
   ]
  },
  {
   "cell_type": "code",
   "execution_count": 17,
   "metadata": {},
   "outputs": [],
   "source": [
    "k=k.drop('distributor',axis=1)"
   ]
  },
  {
   "cell_type": "code",
   "execution_count": 18,
   "metadata": {},
   "outputs": [],
   "source": [
    "k=k.drop('genre',axis=1)"
   ]
  },
  {
   "cell_type": "code",
   "execution_count": 19,
   "metadata": {},
   "outputs": [],
   "source": [
    "k=k.drop('director',axis=1)"
   ]
  },
  {
   "cell_type": "code",
   "execution_count": 20,
   "metadata": {},
   "outputs": [
    {
     "ename": "SyntaxError",
     "evalue": "invalid syntax (<ipython-input-20-07a815ed27a5>, line 1)",
     "output_type": "error",
     "traceback": [
      "\u001b[1;36m  File \u001b[1;32m\"<ipython-input-20-07a815ed27a5>\"\u001b[1;36m, line \u001b[1;32m1\u001b[0m\n\u001b[1;33m    cor=\u001b[0m\n\u001b[1;37m        ^\u001b[0m\n\u001b[1;31mSyntaxError\u001b[0m\u001b[1;31m:\u001b[0m invalid syntax\n"
     ]
    }
   ],
   "source": [
    "cor="
   ]
  },
  {
   "cell_type": "code",
   "execution_count": null,
   "metadata": {},
   "outputs": [],
   "source": []
  }
 ],
 "metadata": {
  "kernelspec": {
   "display_name": "Python 3",
   "language": "python",
   "name": "python3"
  },
  "language_info": {
   "codemirror_mode": {
    "name": "ipython",
    "version": 3
   },
   "file_extension": ".py",
   "mimetype": "text/x-python",
   "name": "python",
   "nbconvert_exporter": "python",
   "pygments_lexer": "ipython3",
   "version": "3.8.5"
  }
 },
 "nbformat": 4,
 "nbformat_minor": 4
}
