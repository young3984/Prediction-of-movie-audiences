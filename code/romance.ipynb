{
 "cells": [
  {
   "cell_type": "code",
   "execution_count": 1,
   "metadata": {},
   "outputs": [],
   "source": [
    "import pandas as pd\n",
    "import numpy as np\n",
    "import matplotlib\n",
    "import matplotlib.pyplot as plt\n",
    "from pandas import Series, DataFrame\n",
    "import seaborn as sns"
   ]
  },
  {
   "cell_type": "code",
   "execution_count": 2,
   "metadata": {},
   "outputs": [],
   "source": [
    "movies=pd.read_csv(\"C:/Users/shinyoungmin/Desktop/수DA쟁이/과제/조별과제/영화 관객수/movies.csv\")"
   ]
  },
  {
   "cell_type": "code",
   "execution_count": 10,
   "metadata": {},
   "outputs": [],
   "source": [
    "romance=movies[movies.genre.isin(['멜로/로맨스'])]"
   ]
  },
  {
   "cell_type": "code",
   "execution_count": 13,
   "metadata": {},
   "outputs": [
    {
     "data": {
      "text/plain": [
       "78"
      ]
     },
     "execution_count": 13,
     "metadata": {},
     "output_type": "execute_result"
    }
   ],
   "source": [
    "np.size(romance,axis=0)"
   ]
  },
  {
   "cell_type": "code",
   "execution_count": 14,
   "metadata": {},
   "outputs": [],
   "source": [
    "rate=np.zeros(shape=(78),dtype=np.int8)"
   ]
  },
  {
   "cell_type": "code",
   "execution_count": 15,
   "metadata": {},
   "outputs": [],
   "source": [
    "rate_o=list(drama.screening_rat)"
   ]
  },
  {
   "cell_type": "code",
   "execution_count": 16,
   "metadata": {},
   "outputs": [],
   "source": [
    "for it in range(78):\n",
    "    if rate_o[it]=='12세 관람가':\n",
    "        rate[it]=1\n",
    "    elif rate_o[it]=='15세 관람가':\n",
    "        rate[it]=2\n",
    "    elif rate_o[it]=='청소년 관람불가':\n",
    "        rate[it]=3"
   ]
  },
  {
   "cell_type": "code",
   "execution_count": 19,
   "metadata": {},
   "outputs": [],
   "source": [
    "romance=romance.reset_index(inplace=False)"
   ]
  },
  {
   "cell_type": "code",
   "execution_count": 20,
   "metadata": {},
   "outputs": [],
   "source": [
    "romance=romance.drop('screening_rat',axis=1)"
   ]
  },
  {
   "cell_type": "code",
   "execution_count": 24,
   "metadata": {},
   "outputs": [],
   "source": [
    "romance['screeing_rat']=rate"
   ]
  },
  {
   "cell_type": "code",
   "execution_count": 25,
   "metadata": {},
   "outputs": [
    {
     "data": {
      "text/html": [
       "<div>\n",
       "<style scoped>\n",
       "    .dataframe tbody tr th:only-of-type {\n",
       "        vertical-align: middle;\n",
       "    }\n",
       "\n",
       "    .dataframe tbody tr th {\n",
       "        vertical-align: top;\n",
       "    }\n",
       "\n",
       "    .dataframe thead th {\n",
       "        text-align: right;\n",
       "    }\n",
       "</style>\n",
       "<table border=\"1\" class=\"dataframe\">\n",
       "  <thead>\n",
       "    <tr style=\"text-align: right;\">\n",
       "      <th></th>\n",
       "      <th>index</th>\n",
       "      <th>title</th>\n",
       "      <th>distributor</th>\n",
       "      <th>genre</th>\n",
       "      <th>release_time</th>\n",
       "      <th>time</th>\n",
       "      <th>director</th>\n",
       "      <th>dir_prev_bfnum</th>\n",
       "      <th>dir_prev_num</th>\n",
       "      <th>num_staff</th>\n",
       "      <th>num_actor</th>\n",
       "      <th>box_off_num</th>\n",
       "      <th>screeing_rat</th>\n",
       "    </tr>\n",
       "  </thead>\n",
       "  <tbody>\n",
       "    <tr>\n",
       "      <th>0</th>\n",
       "      <td>10</td>\n",
       "      <td>AV 아이돌</td>\n",
       "      <td>(주) 케이알씨지</td>\n",
       "      <td>멜로/로맨스</td>\n",
       "      <td>2015-07-27</td>\n",
       "      <td>89</td>\n",
       "      <td>조조 히데오</td>\n",
       "      <td>NaN</td>\n",
       "      <td>0</td>\n",
       "      <td>0</td>\n",
       "      <td>4</td>\n",
       "      <td>745</td>\n",
       "      <td>3</td>\n",
       "    </tr>\n",
       "    <tr>\n",
       "      <th>1</th>\n",
       "      <td>27</td>\n",
       "      <td>러브앤서울 복숭아마을 도색소동기</td>\n",
       "      <td>(주) 케이알씨지</td>\n",
       "      <td>멜로/로맨스</td>\n",
       "      <td>2015-07-27</td>\n",
       "      <td>89</td>\n",
       "      <td>조조 히데오</td>\n",
       "      <td>NaN</td>\n",
       "      <td>0</td>\n",
       "      <td>0</td>\n",
       "      <td>4</td>\n",
       "      <td>745</td>\n",
       "      <td>3</td>\n",
       "    </tr>\n",
       "    <tr>\n",
       "      <th>2</th>\n",
       "      <td>33</td>\n",
       "      <td>물 없는 바다</td>\n",
       "      <td>인디스토리</td>\n",
       "      <td>멜로/로맨스</td>\n",
       "      <td>2011-12-08</td>\n",
       "      <td>88</td>\n",
       "      <td>김관철</td>\n",
       "      <td>NaN</td>\n",
       "      <td>0</td>\n",
       "      <td>9</td>\n",
       "      <td>2</td>\n",
       "      <td>390</td>\n",
       "      <td>2</td>\n",
       "    </tr>\n",
       "    <tr>\n",
       "      <th>3</th>\n",
       "      <td>34</td>\n",
       "      <td>오싹한 연애</td>\n",
       "      <td>CJ 엔터테인먼트</td>\n",
       "      <td>멜로/로맨스</td>\n",
       "      <td>2011-12-01</td>\n",
       "      <td>114</td>\n",
       "      <td>황인호</td>\n",
       "      <td>683213.333333</td>\n",
       "      <td>3</td>\n",
       "      <td>324</td>\n",
       "      <td>2</td>\n",
       "      <td>3009406</td>\n",
       "      <td>1</td>\n",
       "    </tr>\n",
       "    <tr>\n",
       "      <th>4</th>\n",
       "      <td>39</td>\n",
       "      <td>러브픽션</td>\n",
       "      <td>NEW</td>\n",
       "      <td>멜로/로맨스</td>\n",
       "      <td>2012-02-29</td>\n",
       "      <td>121</td>\n",
       "      <td>전계수</td>\n",
       "      <td>8052.500000</td>\n",
       "      <td>2</td>\n",
       "      <td>315</td>\n",
       "      <td>2</td>\n",
       "      <td>1726227</td>\n",
       "      <td>2</td>\n",
       "    </tr>\n",
       "    <tr>\n",
       "      <th>...</th>\n",
       "      <td>...</td>\n",
       "      <td>...</td>\n",
       "      <td>...</td>\n",
       "      <td>...</td>\n",
       "      <td>...</td>\n",
       "      <td>...</td>\n",
       "      <td>...</td>\n",
       "      <td>...</td>\n",
       "      <td>...</td>\n",
       "      <td>...</td>\n",
       "      <td>...</td>\n",
       "      <td>...</td>\n",
       "      <td>...</td>\n",
       "    </tr>\n",
       "    <tr>\n",
       "      <th>73</th>\n",
       "      <td>544</td>\n",
       "      <td>꼭 껴안고 눈물 핑</td>\n",
       "      <td>스폰지이엔티</td>\n",
       "      <td>멜로/로맨스</td>\n",
       "      <td>2011-03-10</td>\n",
       "      <td>78</td>\n",
       "      <td>김동원</td>\n",
       "      <td>340.000000</td>\n",
       "      <td>1</td>\n",
       "      <td>9</td>\n",
       "      <td>3</td>\n",
       "      <td>614</td>\n",
       "      <td>2</td>\n",
       "    </tr>\n",
       "    <tr>\n",
       "      <th>74</th>\n",
       "      <td>549</td>\n",
       "      <td>맛있는 택배</td>\n",
       "      <td>(주)로드하우스</td>\n",
       "      <td>멜로/로맨스</td>\n",
       "      <td>2015-04-02</td>\n",
       "      <td>84</td>\n",
       "      <td>기대호</td>\n",
       "      <td>NaN</td>\n",
       "      <td>0</td>\n",
       "      <td>0</td>\n",
       "      <td>1</td>\n",
       "      <td>6226</td>\n",
       "      <td>3</td>\n",
       "    </tr>\n",
       "    <tr>\n",
       "      <th>75</th>\n",
       "      <td>554</td>\n",
       "      <td>위험한 섹스</td>\n",
       "      <td>(주) 케이알씨지</td>\n",
       "      <td>멜로/로맨스</td>\n",
       "      <td>2015-09-23</td>\n",
       "      <td>72</td>\n",
       "      <td>이전</td>\n",
       "      <td>NaN</td>\n",
       "      <td>0</td>\n",
       "      <td>0</td>\n",
       "      <td>1</td>\n",
       "      <td>419</td>\n",
       "      <td>3</td>\n",
       "    </tr>\n",
       "    <tr>\n",
       "      <th>76</th>\n",
       "      <td>562</td>\n",
       "      <td>이파네마 소년</td>\n",
       "      <td>프리비젼 엔터테인먼트</td>\n",
       "      <td>멜로/로맨스</td>\n",
       "      <td>2010-11-04</td>\n",
       "      <td>94</td>\n",
       "      <td>김기훈</td>\n",
       "      <td>NaN</td>\n",
       "      <td>0</td>\n",
       "      <td>158</td>\n",
       "      <td>2</td>\n",
       "      <td>3436</td>\n",
       "      <td>1</td>\n",
       "    </tr>\n",
       "    <tr>\n",
       "      <th>77</th>\n",
       "      <td>563</td>\n",
       "      <td>웨딩스캔들</td>\n",
       "      <td>(주)마인스엔터테인먼트</td>\n",
       "      <td>멜로/로맨스</td>\n",
       "      <td>2012-09-06</td>\n",
       "      <td>90</td>\n",
       "      <td>신재호</td>\n",
       "      <td>67602.000000</td>\n",
       "      <td>1</td>\n",
       "      <td>57</td>\n",
       "      <td>2</td>\n",
       "      <td>21295</td>\n",
       "      <td>2</td>\n",
       "    </tr>\n",
       "  </tbody>\n",
       "</table>\n",
       "<p>78 rows × 13 columns</p>\n",
       "</div>"
      ],
      "text/plain": [
       "    index              title   distributor   genre release_time  time  \\\n",
       "0      10             AV 아이돌     (주) 케이알씨지  멜로/로맨스   2015-07-27    89   \n",
       "1      27  러브앤서울 복숭아마을 도색소동기     (주) 케이알씨지  멜로/로맨스   2015-07-27    89   \n",
       "2      33            물 없는 바다         인디스토리  멜로/로맨스   2011-12-08    88   \n",
       "3      34             오싹한 연애     CJ 엔터테인먼트  멜로/로맨스   2011-12-01   114   \n",
       "4      39               러브픽션           NEW  멜로/로맨스   2012-02-29   121   \n",
       "..    ...                ...           ...     ...          ...   ...   \n",
       "73    544         꼭 껴안고 눈물 핑        스폰지이엔티  멜로/로맨스   2011-03-10    78   \n",
       "74    549             맛있는 택배      (주)로드하우스  멜로/로맨스   2015-04-02    84   \n",
       "75    554             위험한 섹스     (주) 케이알씨지  멜로/로맨스   2015-09-23    72   \n",
       "76    562            이파네마 소년   프리비젼 엔터테인먼트  멜로/로맨스   2010-11-04    94   \n",
       "77    563              웨딩스캔들  (주)마인스엔터테인먼트  멜로/로맨스   2012-09-06    90   \n",
       "\n",
       "   director  dir_prev_bfnum  dir_prev_num  num_staff  num_actor  box_off_num  \\\n",
       "0    조조 히데오             NaN             0          0          4          745   \n",
       "1    조조 히데오             NaN             0          0          4          745   \n",
       "2       김관철             NaN             0          9          2          390   \n",
       "3       황인호   683213.333333             3        324          2      3009406   \n",
       "4       전계수     8052.500000             2        315          2      1726227   \n",
       "..      ...             ...           ...        ...        ...          ...   \n",
       "73      김동원      340.000000             1          9          3          614   \n",
       "74      기대호             NaN             0          0          1         6226   \n",
       "75       이전             NaN             0          0          1          419   \n",
       "76      김기훈             NaN             0        158          2         3436   \n",
       "77      신재호    67602.000000             1         57          2        21295   \n",
       "\n",
       "    screeing_rat  \n",
       "0              3  \n",
       "1              3  \n",
       "2              2  \n",
       "3              1  \n",
       "4              2  \n",
       "..           ...  \n",
       "73             2  \n",
       "74             3  \n",
       "75             3  \n",
       "76             1  \n",
       "77             2  \n",
       "\n",
       "[78 rows x 13 columns]"
      ]
     },
     "execution_count": 25,
     "metadata": {},
     "output_type": "execute_result"
    }
   ],
   "source": [
    "romance"
   ]
  },
  {
   "cell_type": "code",
   "execution_count": 26,
   "metadata": {},
   "outputs": [],
   "source": [
    "Y=drama.box_off_num.values\n",
    "X=drama.screeing_rat.values"
   ]
  },
  {
   "cell_type": "code",
   "execution_count": 27,
   "metadata": {},
   "outputs": [
    {
     "data": {
      "text/plain": [
       "<matplotlib.collections.PathCollection at 0x10d7e9fbfd0>"
      ]
     },
     "execution_count": 27,
     "metadata": {},
     "output_type": "execute_result"
    },
    {
     "data": {
      "image/png": "[encoded data removed]",
      "text/plain": [
       "<Figure size 432x288 with 1 Axes>"
      ]
     },
     "metadata": {
      "needs_background": "light"
     },
     "output_type": "display_data"
    }
   ],
   "source": [
    "plt.scatter(X,Y)"
   ]
  },
  {
   "cell_type": "code",
   "execution_count": 28,
   "metadata": {},
   "outputs": [
    {
     "data": {
      "text/plain": [
       "-321645.75724275724"
      ]
     },
     "execution_count": 28,
     "metadata": {},
     "output_type": "execute_result"
    }
   ],
   "source": [
    "np.cov(X,Y)[0,1]"
   ]
  },
  {
   "cell_type": "code",
   "execution_count": 29,
   "metadata": {},
   "outputs": [
    {
     "data": {
      "text/plain": [
       "-0.44919576477948997"
      ]
     },
     "execution_count": 29,
     "metadata": {},
     "output_type": "execute_result"
    }
   ],
   "source": [
    "np.corrcoef(X,Y)[0,1]"
   ]
  },
  {
   "cell_type": "code",
   "execution_count": 30,
   "metadata": {},
   "outputs": [
    {
     "data": {
      "text/plain": [
       "(-0.44919576477948997, 3.7032957117033524e-05)"
      ]
     },
     "execution_count": 30,
     "metadata": {},
     "output_type": "execute_result"
    }
   ],
   "source": [
    "import scipy.stats as stats\n",
    "stats.pearsonr(X,Y)"
   ]
  },
  {
   "cell_type": "code",
   "execution_count": null,
   "metadata": {},
   "outputs": [],
   "source": []
  }
 ],
 "metadata": {
  "kernelspec": {
   "display_name": "Python 3",
   "language": "python",
   "name": "python3"
  },
  "language_info": {
   "codemirror_mode": {
    "name": "ipython",
    "version": 3
   },
   "file_extension": ".py",
   "mimetype": "text/x-python",
   "name": "python",
   "nbconvert_exporter": "python",
   "pygments_lexer": "ipython3",
   "version": "3.8.5"
  }
 },
 "nbformat": 4,
 "nbformat_minor": 4
}
