{
 "cells": [
  {
   "cell_type": "code",
   "execution_count": 1,
   "metadata": {},
   "outputs": [],
   "source": [
    "import pandas as pd\n",
    "import numpy as np\n",
    "import matplotlib\n",
    "import matplotlib.pyplot as plt\n",
    "from pandas import Series, DataFrame\n",
    "import seaborn as sns"
   ]
  },
  {
   "cell_type": "code",
   "execution_count": 2,
   "metadata": {},
   "outputs": [],
   "source": [
    "movies=pd.read_csv(\"C:/Users/shinyoungmin/Desktop/수DA쟁이/과제/조별과제/영화 관객수/movies.csv\")"
   ]
  },
  {
   "cell_type": "code",
   "execution_count": 3,
   "metadata": {},
   "outputs": [
    {
     "data": {
      "text/plain": [
       "{'SF',\n",
       " '공포',\n",
       " '느와르',\n",
       " '다큐멘터리',\n",
       " '드라마',\n",
       " '멜로/로맨스',\n",
       " '뮤지컬',\n",
       " '미스터리',\n",
       " '서스펜스',\n",
       " '애니메이션',\n",
       " '액션',\n",
       " '코미디'}"
      ]
     },
     "execution_count": 3,
     "metadata": {},
     "output_type": "execute_result"
    }
   ],
   "source": [
    "set(movies.genre)"
   ]
  },
  {
   "cell_type": "code",
   "execution_count": 6,
   "metadata": {},
   "outputs": [],
   "source": [
    "horror=movies[movies.genre.isin(['공포','서스펜스','미스터리'])]"
   ]
  },
  {
   "cell_type": "code",
   "execution_count": 8,
   "metadata": {},
   "outputs": [
    {
     "data": {
      "text/plain": [
       "61"
      ]
     },
     "execution_count": 8,
     "metadata": {},
     "output_type": "execute_result"
    }
   ],
   "source": [
    "np.size(horror,axis=0)"
   ]
  },
  {
   "cell_type": "code",
   "execution_count": 9,
   "metadata": {},
   "outputs": [],
   "source": [
    "rate=np.zeros(shape=(61),dtype=np.int8)"
   ]
  },
  {
   "cell_type": "code",
   "execution_count": 11,
   "metadata": {},
   "outputs": [],
   "source": [
    "rate_o=list(horror.screening_rat)"
   ]
  },
  {
   "cell_type": "code",
   "execution_count": 12,
   "metadata": {},
   "outputs": [],
   "source": [
    "for it in range(61):\n",
    "    if rate_o[it]=='12세 관람가':\n",
    "        rate[it]=1\n",
    "    elif rate_o[it]=='15세 관람가':\n",
    "        rate[it]=2\n",
    "    elif rate_o[it]=='청소년 관람불가':\n",
    "        rate[it]=3"
   ]
  },
  {
   "cell_type": "code",
   "execution_count": 13,
   "metadata": {},
   "outputs": [],
   "source": [
    "horror=horror.reset_index(inplace=False)"
   ]
  },
  {
   "cell_type": "code",
   "execution_count": 14,
   "metadata": {},
   "outputs": [],
   "source": [
    "horror=horror.drop('screening_rat',axis=1)"
   ]
  },
  {
   "cell_type": "code",
   "execution_count": 15,
   "metadata": {},
   "outputs": [],
   "source": [
    "horror['screeing_rat']=rate"
   ]
  },
  {
   "cell_type": "code",
   "execution_count": 16,
   "metadata": {},
   "outputs": [
    {
     "data": {
      "text/html": [
       "<div>\n",
       "<style scoped>\n",
       "    .dataframe tbody tr th:only-of-type {\n",
       "        vertical-align: middle;\n",
       "    }\n",
       "\n",
       "    .dataframe tbody tr th {\n",
       "        vertical-align: top;\n",
       "    }\n",
       "\n",
       "    .dataframe thead th {\n",
       "        text-align: right;\n",
       "    }\n",
       "</style>\n",
       "<table border=\"1\" class=\"dataframe\">\n",
       "  <thead>\n",
       "    <tr style=\"text-align: right;\">\n",
       "      <th></th>\n",
       "      <th>index</th>\n",
       "      <th>title</th>\n",
       "      <th>distributor</th>\n",
       "      <th>genre</th>\n",
       "      <th>release_time</th>\n",
       "      <th>time</th>\n",
       "      <th>director</th>\n",
       "      <th>dir_prev_bfnum</th>\n",
       "      <th>dir_prev_num</th>\n",
       "      <th>num_staff</th>\n",
       "      <th>num_actor</th>\n",
       "      <th>box_off_num</th>\n",
       "      <th>screeing_rat</th>\n",
       "    </tr>\n",
       "  </thead>\n",
       "  <tbody>\n",
       "    <tr>\n",
       "      <th>0</th>\n",
       "      <td>11</td>\n",
       "      <td>무서운 집</td>\n",
       "      <td>(주)콘텐츠 윙</td>\n",
       "      <td>공포</td>\n",
       "      <td>2015-07-30</td>\n",
       "      <td>98</td>\n",
       "      <td>양병간</td>\n",
       "      <td>NaN</td>\n",
       "      <td>0</td>\n",
       "      <td>0</td>\n",
       "      <td>1</td>\n",
       "      <td>1079</td>\n",
       "      <td>1</td>\n",
       "    </tr>\n",
       "    <tr>\n",
       "      <th>1</th>\n",
       "      <td>13</td>\n",
       "      <td>짓</td>\n",
       "      <td>(주)팝 파트너스</td>\n",
       "      <td>서스펜스</td>\n",
       "      <td>2013-09-25</td>\n",
       "      <td>107</td>\n",
       "      <td>한종훈</td>\n",
       "      <td>534232.5</td>\n",
       "      <td>2</td>\n",
       "      <td>15</td>\n",
       "      <td>4</td>\n",
       "      <td>23052</td>\n",
       "      <td>3</td>\n",
       "    </tr>\n",
       "    <tr>\n",
       "      <th>2</th>\n",
       "      <td>22</td>\n",
       "      <td>원령</td>\n",
       "      <td>조이앤시네마</td>\n",
       "      <td>공포</td>\n",
       "      <td>2015-08-13</td>\n",
       "      <td>91</td>\n",
       "      <td>동지견</td>\n",
       "      <td>NaN</td>\n",
       "      <td>0</td>\n",
       "      <td>0</td>\n",
       "      <td>1</td>\n",
       "      <td>914</td>\n",
       "      <td>2</td>\n",
       "    </tr>\n",
       "    <tr>\n",
       "      <th>3</th>\n",
       "      <td>26</td>\n",
       "      <td>이웃집 좀비</td>\n",
       "      <td>인디스토리</td>\n",
       "      <td>공포</td>\n",
       "      <td>2010-02-18</td>\n",
       "      <td>89</td>\n",
       "      <td>류훈</td>\n",
       "      <td>NaN</td>\n",
       "      <td>0</td>\n",
       "      <td>40</td>\n",
       "      <td>10</td>\n",
       "      <td>2807</td>\n",
       "      <td>2</td>\n",
       "    </tr>\n",
       "    <tr>\n",
       "      <th>4</th>\n",
       "      <td>58</td>\n",
       "      <td>파괴된 사나이</td>\n",
       "      <td>시너지</td>\n",
       "      <td>공포</td>\n",
       "      <td>2010-07-01</td>\n",
       "      <td>114</td>\n",
       "      <td>우민호</td>\n",
       "      <td>NaN</td>\n",
       "      <td>0</td>\n",
       "      <td>290</td>\n",
       "      <td>5</td>\n",
       "      <td>1012310</td>\n",
       "      <td>3</td>\n",
       "    </tr>\n",
       "    <tr>\n",
       "      <th>...</th>\n",
       "      <td>...</td>\n",
       "      <td>...</td>\n",
       "      <td>...</td>\n",
       "      <td>...</td>\n",
       "      <td>...</td>\n",
       "      <td>...</td>\n",
       "      <td>...</td>\n",
       "      <td>...</td>\n",
       "      <td>...</td>\n",
       "      <td>...</td>\n",
       "      <td>...</td>\n",
       "      <td>...</td>\n",
       "      <td>...</td>\n",
       "    </tr>\n",
       "    <tr>\n",
       "      <th>56</th>\n",
       "      <td>561</td>\n",
       "      <td>숨바꼭질</td>\n",
       "      <td>(주)NEW</td>\n",
       "      <td>공포</td>\n",
       "      <td>2013-08-14</td>\n",
       "      <td>107</td>\n",
       "      <td>허정</td>\n",
       "      <td>NaN</td>\n",
       "      <td>0</td>\n",
       "      <td>249</td>\n",
       "      <td>3</td>\n",
       "      <td>5604106</td>\n",
       "      <td>2</td>\n",
       "    </tr>\n",
       "    <tr>\n",
       "      <th>57</th>\n",
       "      <td>568</td>\n",
       "      <td>공범</td>\n",
       "      <td>CJ 엔터테인먼트</td>\n",
       "      <td>공포</td>\n",
       "      <td>2013-10-24</td>\n",
       "      <td>95</td>\n",
       "      <td>국동석</td>\n",
       "      <td>1389992.0</td>\n",
       "      <td>4</td>\n",
       "      <td>281</td>\n",
       "      <td>2</td>\n",
       "      <td>1766285</td>\n",
       "      <td>2</td>\n",
       "    </tr>\n",
       "    <tr>\n",
       "      <th>58</th>\n",
       "      <td>590</td>\n",
       "      <td>짐승의 끝</td>\n",
       "      <td>CJ 엔터테인먼트</td>\n",
       "      <td>미스터리</td>\n",
       "      <td>2011-03-17</td>\n",
       "      <td>114</td>\n",
       "      <td>조성희</td>\n",
       "      <td>NaN</td>\n",
       "      <td>0</td>\n",
       "      <td>92</td>\n",
       "      <td>2</td>\n",
       "      <td>1250</td>\n",
       "      <td>3</td>\n",
       "    </tr>\n",
       "    <tr>\n",
       "      <th>59</th>\n",
       "      <td>593</td>\n",
       "      <td>낭만파 남편의 편지</td>\n",
       "      <td>퍼스트런</td>\n",
       "      <td>미스터리</td>\n",
       "      <td>2013-09-12</td>\n",
       "      <td>97</td>\n",
       "      <td>최위안</td>\n",
       "      <td>NaN</td>\n",
       "      <td>0</td>\n",
       "      <td>5</td>\n",
       "      <td>3</td>\n",
       "      <td>1132</td>\n",
       "      <td>3</td>\n",
       "    </tr>\n",
       "    <tr>\n",
       "      <th>60</th>\n",
       "      <td>597</td>\n",
       "      <td>살인의 강</td>\n",
       "      <td>(주)마운틴픽쳐스</td>\n",
       "      <td>공포</td>\n",
       "      <td>2010-09-30</td>\n",
       "      <td>99</td>\n",
       "      <td>김대현</td>\n",
       "      <td>NaN</td>\n",
       "      <td>0</td>\n",
       "      <td>123</td>\n",
       "      <td>4</td>\n",
       "      <td>2475</td>\n",
       "      <td>3</td>\n",
       "    </tr>\n",
       "  </tbody>\n",
       "</table>\n",
       "<p>61 rows × 13 columns</p>\n",
       "</div>"
      ],
      "text/plain": [
       "    index       title distributor genre release_time  time director  \\\n",
       "0      11       무서운 집    (주)콘텐츠 윙    공포   2015-07-30    98      양병간   \n",
       "1      13           짓   (주)팝 파트너스  서스펜스   2013-09-25   107      한종훈   \n",
       "2      22          원령      조이앤시네마    공포   2015-08-13    91      동지견   \n",
       "3      26      이웃집 좀비       인디스토리    공포   2010-02-18    89       류훈   \n",
       "4      58     파괴된 사나이         시너지    공포   2010-07-01   114      우민호   \n",
       "..    ...         ...         ...   ...          ...   ...      ...   \n",
       "56    561        숨바꼭질      (주)NEW    공포   2013-08-14   107       허정   \n",
       "57    568          공범   CJ 엔터테인먼트    공포   2013-10-24    95      국동석   \n",
       "58    590       짐승의 끝   CJ 엔터테인먼트  미스터리   2011-03-17   114      조성희   \n",
       "59    593  낭만파 남편의 편지        퍼스트런  미스터리   2013-09-12    97      최위안   \n",
       "60    597       살인의 강   (주)마운틴픽쳐스    공포   2010-09-30    99      김대현   \n",
       "\n",
       "    dir_prev_bfnum  dir_prev_num  num_staff  num_actor  box_off_num  \\\n",
       "0              NaN             0          0          1         1079   \n",
       "1         534232.5             2         15          4        23052   \n",
       "2              NaN             0          0          1          914   \n",
       "3              NaN             0         40         10         2807   \n",
       "4              NaN             0        290          5      1012310   \n",
       "..             ...           ...        ...        ...          ...   \n",
       "56             NaN             0        249          3      5604106   \n",
       "57       1389992.0             4        281          2      1766285   \n",
       "58             NaN             0         92          2         1250   \n",
       "59             NaN             0          5          3         1132   \n",
       "60             NaN             0        123          4         2475   \n",
       "\n",
       "    screeing_rat  \n",
       "0              1  \n",
       "1              3  \n",
       "2              2  \n",
       "3              2  \n",
       "4              3  \n",
       "..           ...  \n",
       "56             2  \n",
       "57             2  \n",
       "58             3  \n",
       "59             3  \n",
       "60             3  \n",
       "\n",
       "[61 rows x 13 columns]"
      ]
     },
     "execution_count": 16,
     "metadata": {},
     "output_type": "execute_result"
    }
   ],
   "source": [
    "horror"
   ]
  },
  {
   "cell_type": "code",
   "execution_count": 17,
   "metadata": {},
   "outputs": [],
   "source": [
    "Y=horror.box_off_num.values\n",
    "X=horror.screeing_rat.values"
   ]
  },
  {
   "cell_type": "code",
   "execution_count": 18,
   "metadata": {},
   "outputs": [
    {
     "data": {
      "text/plain": [
       "<matplotlib.collections.PathCollection at 0x281f05d35e0>"
      ]
     },
     "execution_count": 18,
     "metadata": {},
     "output_type": "execute_result"
    },
    {
     "data": {
      "image/png": "[encoded data removed]",
      "text/plain": [
       "<Figure size 432x288 with 1 Axes>"
      ]
     },
     "metadata": {
      "needs_background": "light"
     },
     "output_type": "display_data"
    }
   ],
   "source": [
    "plt.scatter(X,Y)"
   ]
  },
  {
   "cell_type": "code",
   "execution_count": 19,
   "metadata": {},
   "outputs": [
    {
     "data": {
      "text/plain": [
       "-136176.86584699454"
      ]
     },
     "execution_count": 19,
     "metadata": {},
     "output_type": "execute_result"
    }
   ],
   "source": [
    "np.cov(X,Y)[0,1]"
   ]
  },
  {
   "cell_type": "code",
   "execution_count": 20,
   "metadata": {},
   "outputs": [
    {
     "data": {
      "text/plain": [
       "-0.23045959654923567"
      ]
     },
     "execution_count": 20,
     "metadata": {},
     "output_type": "execute_result"
    }
   ],
   "source": [
    "np.corrcoef(X,Y)[0,1]"
   ]
  },
  {
   "cell_type": "code",
   "execution_count": 21,
   "metadata": {},
   "outputs": [
    {
     "data": {
      "text/plain": [
       "(-0.2304595965492356, 0.0739621616661966)"
      ]
     },
     "execution_count": 21,
     "metadata": {},
     "output_type": "execute_result"
    }
   ],
   "source": [
    "import scipy.stats as stats\n",
    "stats.pearsonr(X,Y)"
   ]
  },
  {
   "cell_type": "code",
   "execution_count": null,
   "metadata": {},
   "outputs": [],
   "source": []
  }
 ],
 "metadata": {
  "kernelspec": {
   "display_name": "Python 3",
   "language": "python",
   "name": "python3"
  },
  "language_info": {
   "codemirror_mode": {
    "name": "ipython",
    "version": 3
   },
   "file_extension": ".py",
   "mimetype": "text/x-python",
   "name": "python",
   "nbconvert_exporter": "python",
   "pygments_lexer": "ipython3",
   "version": "3.8.5"
  }
 },
 "nbformat": 4,
 "nbformat_minor": 4
}
